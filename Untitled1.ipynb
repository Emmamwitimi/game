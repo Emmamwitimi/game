{
 "cells": [
  {
   "cell_type": "code",
   "execution_count": null,
   "id": "88333aa0",
   "metadata": {},
   "outputs": [],
   "source": [
    "import random\n",
    "\n",
    "items=[\"paper\", \"scisors\", \"rock\"]\n",
    "computer=random.choice(items)\n",
    "player=\"none\"\n",
    "\n",
    "while player not in items:\n",
    "    player=input(\"paper, scisors, rock:\")\n",
    "    print(computer)\n",
    "    print(player)\n",
    "   \n",
    "    \n",
    "if player==computer:\n",
    "    print(player)\n",
    "    print(computer)\n",
    "    print(tied)\n",
    "    \n",
    "if player=rock:\n",
    "    print(\"you \")\n",
    "    \n",
    "elif computer=rock:\n",
    "    print(\"you win\")    "
   ]
  },
  {
   "cell_type": "code",
   "execution_count": null,
   "id": "10c48352",
   "metadata": {},
   "outputs": [],
   "source": []
  }
 ],
 "metadata": {
  "kernelspec": {
   "display_name": "Python 3",
   "language": "python",
   "name": "python3"
  },
  "language_info": {
   "codemirror_mode": {
    "name": "ipython",
    "version": 3
   },
   "file_extension": ".py",
   "mimetype": "text/x-python",
   "name": "python",
   "nbconvert_exporter": "python",
   "pygments_lexer": "ipython3",
   "version": "3.8.8"
  }
 },
 "nbformat": 4,
 "nbformat_minor": 5
}
