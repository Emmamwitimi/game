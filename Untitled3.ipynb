{
 "cells": [
  {
   "cell_type": "code",
   "execution_count": 3,
   "id": "e52ff00a",
   "metadata": {},
   "outputs": [
    {
     "name": "stdout",
     "output_type": "stream",
     "text": [
      "ruth\n",
      "paper, scissors, rock:paper\n",
      "scissors\n",
      "paper\n",
      "computer wins\n"
     ]
    }
   ],
   "source": [
    "\n",
    "import random\n",
    "\n",
    "\n",
    "items=[\"paper\", \"scissors\", \"rock\"]\n",
    "player=\"none\"\n",
    "computer=random.choice(items)\n",
    "name=input()\n",
    "\n",
    "\n",
    "while player not in items:\n",
    "    player=input(\"paper, scissors, rock:\")\n",
    "\n",
    "if player==computer:\n",
    "    print(computer)\n",
    "    print(player)\n",
    "    print(\"tied\")\n",
    "    \n",
    "if player==\"rock\":\n",
    "    print(computer)\n",
    "    print(player)\n",
    "    print(\"computer wins\")\n",
    "\n",
    "if computer==\"rock\":\n",
    "    print(computer)\n",
    "    print(player)\n",
    "    print(name,\" wins\")\n",
    "    \n",
    "elif player==\"paper\":\n",
    "    if computer==\"scissors\":\n",
    "        print(computer)\n",
    "        print(player)\n",
    "        print(\"computer wins\")\n",
    "    \n",
    "elif player==\"scissors\":\n",
    "    if computer==\"paper\":\n",
    "        print(computer)\n",
    "        print(player)\n",
    "        print(name,\"wins\")\n",
    "    \n",
    "    "
   ]
  },
  {
   "cell_type": "code",
   "execution_count": null,
   "id": "8e8e649a",
   "metadata": {},
   "outputs": [],
   "source": []
  }
 ],
 "metadata": {
  "kernelspec": {
   "display_name": "Python 3",
   "language": "python",
   "name": "python3"
  },
  "language_info": {
   "codemirror_mode": {
    "name": "ipython",
    "version": 3
   },
   "file_extension": ".py",
   "mimetype": "text/x-python",
   "name": "python",
   "nbconvert_exporter": "python",
   "pygments_lexer": "ipython3",
   "version": "3.8.8"
  }
 },
 "nbformat": 4,
 "nbformat_minor": 5
}
