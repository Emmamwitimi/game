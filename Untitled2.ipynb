{
 "cells": [
  {
   "cell_type": "code",
   "execution_count": 1,
   "id": "366f67ca",
   "metadata": {},
   "outputs": [
    {
     "name": "stdout",
     "output_type": "stream",
     "text": [
      "emma\n",
      "emma\n",
      "paper, scissors, rock:paper\n",
      "rock\n",
      "paper\n",
      "emma  wins\n"
     ]
    }
   ],
   "source": [
    "import random\n",
    "from tkinter import*\n",
    "\n",
    "\n",
    "items=[\"paper\", \"scissors\", \"rock\"]\n",
    "player=\"none\"\n",
    "computer=random.choice(items)\n",
    "name=input()\n",
    "print(name)\n",
    "\n",
    "while player not in items:\n",
    "    player=input(\"paper, scissors, rock:\")\n",
    "\n",
    "if player==computer:\n",
    "    print(computer)\n",
    "    print(player)\n",
    "    print(\"tied\")\n",
    "    \n",
    "if player==\"rock\":\n",
    "    print(computer)\n",
    "    print(player)\n",
    "    print(\"computer wins\")\n",
    "\n",
    "if computer==\"rock\":\n",
    "    print(computer)\n",
    "    print(player)\n",
    "    print(name,\" wins\")\n",
    "    "
   ]
  },
  {
   "cell_type": "code",
   "execution_count": null,
   "id": "730e4a37",
   "metadata": {},
   "outputs": [],
   "source": []
  },
  {
   "cell_type": "code",
   "execution_count": null,
   "id": "35e5855a",
   "metadata": {},
   "outputs": [],
   "source": []
  }
 ],
 "metadata": {
  "kernelspec": {
   "display_name": "Python 3",
   "language": "python",
   "name": "python3"
  },
  "language_info": {
   "codemirror_mode": {
    "name": "ipython",
    "version": 3
   },
   "file_extension": ".py",
   "mimetype": "text/x-python",
   "name": "python",
   "nbconvert_exporter": "python",
   "pygments_lexer": "ipython3",
   "version": "3.8.8"
  }
 },
 "nbformat": 4,
 "nbformat_minor": 5
}
